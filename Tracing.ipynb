{
 "cells": [
  {
   "cell_type": "markdown",
   "id": "52f02ac0-94b9-4b65-a40f-d08487afed98",
   "metadata": {},
   "source": [
    "## Tracing"
   ]
  },
  {
   "cell_type": "markdown",
   "id": "0894c6cd-7aba-417e-b6dc-655298894946",
   "metadata": {},
   "source": [
    "### A way to see what agents are doing."
   ]
  },
  {
   "cell_type": "code",
   "execution_count": 2,
   "id": "f6ce5e21-20bb-450c-b757-a141ace8aba4",
   "metadata": {},
   "outputs": [],
   "source": [
    "from agents import Agent, Runner\n",
    "import os\n",
    "from dotenv import load_dotenv "
   ]
  },
  {
   "cell_type": "code",
   "execution_count": 3,
   "id": "552804b5-a926-48f5-842c-3472137121c6",
   "metadata": {},
   "outputs": [],
   "source": [
    "load_dotenv()\n",
    "\n",
    "api_key = os.environ.get(\"OPENAI_API_KEY\")\n",
    "\n",
    "if not api_key:\n",
    "    raise ValueError(\"OPENAI_API_KEY is not set in the environment variables\")"
   ]
  },
  {
   "cell_type": "code",
   "execution_count": 8,
   "id": "4806595e-bbd1-4811-8b11-0e3adb955be2",
   "metadata": {},
   "outputs": [],
   "source": [
    "from agents import trace\n",
    "\n",
    "agent = Agent(\n",
    "    name = \"Basic Agent\",\n",
    "    instructions= \"You are a helpful assistant.\",\n",
    "    model= \"gpt-4o-mini\"\n",
    ")\n",
    "\n",
    "with trace(\"Basic Agent Workflow\"):\n",
    "    result = await Runner.run(agent, \"Help me write a python code to add 2 numbers\")\n",
    "    result.final_output"
   ]
  },
  {
   "cell_type": "code",
   "execution_count": null,
   "id": "9f82562e-39bd-4f14-8828-17672094d854",
   "metadata": {},
   "outputs": [],
   "source": []
  }
 ],
 "metadata": {
  "kernelspec": {
   "display_name": "local-kernel",
   "language": "python",
   "name": "local-kernel"
  },
  "language_info": {
   "codemirror_mode": {
    "name": "ipython",
    "version": 3
   },
   "file_extension": ".py",
   "mimetype": "text/x-python",
   "name": "python",
   "nbconvert_exporter": "python",
   "pygments_lexer": "ipython3",
   "version": "3.12.4"
  }
 },
 "nbformat": 4,
 "nbformat_minor": 5
}
