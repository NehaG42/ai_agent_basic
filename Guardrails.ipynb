{
 "cells": [
  {
   "cell_type": "markdown",
   "id": "c327ea82-a3d2-457b-a6a7-f11b5944ad8c",
   "metadata": {},
   "source": [
    "## Guardrails"
   ]
  },
  {
   "cell_type": "markdown",
   "id": "538a0fb9-e00c-49c3-bf15-de04014a13a3",
   "metadata": {},
   "source": [
    "### Guardrails are a way to validate the input and output of an Agent to insure proper usage."
   ]
  },
  {
   "cell_type": "code",
   "execution_count": 1,
   "id": "efd75b02-35cc-4ed0-84b4-f71078767aa4",
   "metadata": {},
   "outputs": [],
   "source": [
    "import os\n",
    "from dotenv import load_dotenv"
   ]
  },
  {
   "cell_type": "code",
   "execution_count": 2,
   "id": "6894f2c9-5d63-4b80-8aae-79abbe66a6b5",
   "metadata": {},
   "outputs": [],
   "source": [
    "load_dotenv()\n",
    "\n",
    "api_key = os.environ.get(\"OPENAI_API_KEY\")\n",
    "\n",
    "if not api_key:\n",
    "    raise ValueError(\"OPENAI_API_KEY is not set in the environment variables\")"
   ]
  },
  {
   "cell_type": "code",
   "execution_count": 3,
   "id": "cd430e03-6175-4c3a-b779-474e6ea5621c",
   "metadata": {},
   "outputs": [],
   "source": [
    "from agents import Agent, Runner, RunContextWrapper, input_guardrail, GuardrailFunctionOutput, TResponseInputItem\n",
    "from pydantic import BaseModel"
   ]
  },
  {
   "cell_type": "code",
   "execution_count": 4,
   "id": "a02bf9a1-9133-443d-8071-d9294fd6e72d",
   "metadata": {},
   "outputs": [],
   "source": [
    "class HomeworkCheatDetectionOutput(BaseModel):\n",
    "    attempting_cheat: bool\n",
    "    explanation: str\n",
    "\n",
    "homework_cheat_guardrail_agent = Agent(\n",
    "    name=\"Homework Cheat Detector\",\n",
    "    instructions=(\n",
    "        \"Determine if the user's query resembles a typical homework assignment or exam question, indicating an attempt to cheat. General questions about concepts are acceptable. \"\n",
    "        \" Cheating: 'Fill in the blank: The capital of France is ____.',\"\n",
    "        \" 'Which of the following best describes photosynthesis? A) Cellular respiration B) Conversion of light energy C) Evaporation D) Fermentation.'\"\n",
    "        \" Not-Cheating: 'What is the capital of France?', 'Explain photosynthesis.'\"\n",
    "    ),\n",
    "    output_type= HomeworkCheatDetectionOutput,\n",
    "    model= \"gpt-4o-mini\"\n",
    ")\n",
    "\n",
    "@input_guardrail\n",
    "async def cheat_detection_guardrails(ctx: RunContextWrapper[None], agent: Agent, \n",
    "                                     input: str | list[TResponseInputItem]) -> GuardrailFunctionOutput:\n",
    "    detection_result = await Runner.run(homework_cheat_guardrail_agent, input)\n",
    "\n",
    "    return GuardrailFunctionOutput(\n",
    "        tripwire_triggered=detection_result.final_output.attempting_cheat,\n",
    "        output_info=detection_result.final_output\n",
    "    )\n",
    "\n",
    "study_helper_agent = Agent(\n",
    "    name = \"Study Helper Agent\",\n",
    "    instructions= \"You assist users in studying by explaining concepts or providing guidance, without directly solving homework or test questions.\",\n",
    "    model= \"gpt-4o\",\n",
    "    input_guardrails=[cheat_detection_guardrails]\n",
    ")"
   ]
  },
  {
   "cell_type": "code",
   "execution_count": 5,
   "id": "a18d64ba-2c39-40a0-a9de-e17be06f8c27",
   "metadata": {},
   "outputs": [
    {
     "name": "stdout",
     "output_type": "stream",
     "text": [
      "Homework cheat guardrail triggered\n",
      "Exception details: Guardrail InputGuardrail triggered tripwire\n"
     ]
    }
   ],
   "source": [
    "# This should trigger the cheat detection guardrail\n",
    "from agents import InputGuardrailTripwireTriggered\n",
    "\n",
    "\n",
    "try:\n",
    "    response = await Runner.run(study_helper_agent, \"Fill in the blank: The process of converting light energy into chemical energy is called ____.\")\n",
    "    print(\"Guardrail didn't trigger\")\n",
    "    print(\"Response: \", response.final_output)\n",
    "\n",
    "except InputGuardrailTripwireTriggered as e:\n",
    "    print(\"Homework cheat guardrail triggered\")\n",
    "    print(\"Exception details:\", str(e))"
   ]
  },
  {
   "cell_type": "code",
   "execution_count": 7,
   "id": "db3e886c-57c9-4b46-a47c-215fe86518d8",
   "metadata": {},
   "outputs": [
    {
     "name": "stdout",
     "output_type": "stream",
     "text": [
      "Guardrail didn't trigger\n",
      "Response:  The process of converting light energy into chemical energy is known as photosynthesis. This process primarily occurs in plants, algae, and certain bacteria. Here's a brief overview of how it works:\n",
      "\n",
      "1. **Light Absorption**: Chlorophyll, the green pigment in chloroplasts, absorbs sunlight. This energy excites electrons, starting the photosynthesis process.\n",
      "\n",
      "2. **Water Splitting (Photolysis)**: The absorbed light energy splits water molecules (H₂O) into oxygen (O₂), protons, and electrons. This process occurs in the thylakoid membranes of the chloroplasts.\n",
      "\n",
      "3. **Electron Transport Chain**: The excited electrons move through a series of proteins embedded in the thylakoid membrane, known as the electron transport chain. As electrons pass through these proteins, they lose energy, which is used to pump protons across the membrane, creating a proton gradient.\n",
      "\n",
      "4. **ATP and NADPH Formation**: The proton gradient drives the production of ATP (adenosine triphosphate) via ATP synthase. Additionally, electrons reduce NADP⁺ to NADPH. Both ATP and NADPH are energy carriers.\n",
      "\n",
      "5. **Calvin Cycle (Carbon Fixation)**: In the stroma of the chloroplast, ATP and NADPH are used to convert carbon dioxide (CO₂) into glucose through a series of reactions known as the Calvin Cycle. The enzyme RuBisCO plays a critical role in fixing carbon dioxide.\n",
      "\n",
      "Overall, photosynthesis can be summarized by the equation:\n",
      "\n",
      "\\[ \\text{6 CO}_2 + \\text{6 H}_2\\text{O} + \\text{light energy} \\rightarrow \\text{C}_6\\text{H}_{12}\\text{O}_6 + \\text{6 O}_2 \\]\n",
      "\n",
      "This process not only provides energy for the plant itself but also produces oxygen and organic compounds that are crucial for life on Earth.\n"
     ]
    }
   ],
   "source": [
    "# This should trigger the cheat detection guardrail\n",
    "try:\n",
    "    response = await Runner.run(study_helper_agent, \"What is the process of converting light energy into chemical energy?\")\n",
    "    print(\"Guardrail didn't trigger\")\n",
    "    print(\"Response: \", response.final_output)\n",
    "\n",
    "except InputGuardrailTripwireTriggered as e:\n",
    "    print(\"Homework cheat guardrail triggered\")\n",
    "    print(\"Exception details:\", str(e))"
   ]
  },
  {
   "cell_type": "code",
   "execution_count": 8,
   "id": "73c89025-ff88-484f-9f15-acccc902f750",
   "metadata": {},
   "outputs": [],
   "source": [
    "from pydantic import BaseModel\n",
    "from agents import (\n",
    "    Agent,\n",
    "    GuardrailFunctionOutput,\n",
    "    OutputGuardrailTripwireTriggered,\n",
    "    RunContextWrapper,\n",
    "    Runner,\n",
    "    output_guardrail,\n",
    ")\n",
    "\n",
    "class MessageOutput(BaseModel):\n",
    "    response: str\n",
    "\n",
    "@output_guardrail\n",
    "async def forbidden_words_guardrail(ctx: RunContextWrapper, agent: Agent, output: str) -> GuardrailFunctionOutput:\n",
    "    print(f\"Checking output for forbidden phrases: {output}\")\n",
    "\n",
    "    # Funny forbidden phrases to check\n",
    "    forbidden_phrases = [\"fart\", \"booger\", \"silly goose\"]\n",
    "\n",
    "    # Convert output to lowercase for case-insensitive comparison\n",
    "    output_lower = output.lower()\n",
    "\n",
    "    # Check which forbidden phrases are present in the response\n",
    "    found_phrases = [phrase for phrase in forbidden_phrases if phrase in output_lower]\n",
    "    trip_triggered = bool(found_phrases)\n",
    "\n",
    "    print(f\"Found forbidden phrases: {found_phrases}\")\n",
    "\n",
    "    return GuardrailFunctionOutput(\n",
    "        output_info={\n",
    "            \"reason\": \"Output contains forbidden phrases.\",\n",
    "            \"forbidden_phrases_found\": found_phrases,\n",
    "        },\n",
    "        tripwire_triggered=trip_triggered,\n",
    "    )\n",
    "\n",
    "agent = Agent(\n",
    "    name=\"Customer support agent\",\n",
    "    instructions=\"You are a customer support agent. You help customers with their questions.\",\n",
    "    output_guardrails=[forbidden_words_guardrail],\n",
    "    model=\"gpt-4o-mini\",\n",
    ")"
   ]
  },
  {
   "cell_type": "code",
   "execution_count": 9,
   "id": "74a3494f-2819-42f4-b655-d28c72a0b318",
   "metadata": {},
   "outputs": [
    {
     "name": "stdout",
     "output_type": "stream",
     "text": [
      "Checking output for forbidden phrases: Fart! How can I assist you today?\n",
      "Found forbidden phrases: ['fart']\n",
      "The agent said a bad word, he is fired.\n"
     ]
    }
   ],
   "source": [
    "try:\n",
    "    await Runner.run(agent, \"Say the word fart\")\n",
    "    print(\"Guardrail didn't trip - this is unexpected\")\n",
    "except OutputGuardrailTripwireTriggered:\n",
    "    print(\"The agent said a bad word, he is fired.\")"
   ]
  },
  {
   "cell_type": "code",
   "execution_count": 10,
   "id": "50b26437-045b-4392-acdd-fd059a6e588d",
   "metadata": {},
   "outputs": [
    {
     "name": "stdout",
     "output_type": "stream",
     "text": [
      "Checking output for forbidden phrases: Hello! I'm here to help. What can I assist you with today?\n",
      "Found forbidden phrases: []\n",
      "Guardrail didn't trip yay\n"
     ]
    }
   ],
   "source": [
    "try:\n",
    "    await Runner.run(agent, \"Hey wassup\")\n",
    "    print(\"Guardrail didn't trip yay\")\n",
    "except OutputGuardrailTripwireTriggered:\n",
    "    print(\"The agent said a bad word, he is fired.\")"
   ]
  },
  {
   "cell_type": "code",
   "execution_count": null,
   "id": "efcd51a5-2b32-4417-991a-0f33236e38d8",
   "metadata": {},
   "outputs": [],
   "source": []
  }
 ],
 "metadata": {
  "kernelspec": {
   "display_name": "local-kernel",
   "language": "python",
   "name": "local-kernel"
  },
  "language_info": {
   "codemirror_mode": {
    "name": "ipython",
    "version": 3
   },
   "file_extension": ".py",
   "mimetype": "text/x-python",
   "name": "python",
   "nbconvert_exporter": "python",
   "pygments_lexer": "ipython3",
   "version": "3.12.4"
  }
 },
 "nbformat": 4,
 "nbformat_minor": 5
}
