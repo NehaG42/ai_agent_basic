{
 "cells": [
  {
   "cell_type": "code",
   "execution_count": 1,
   "id": "cc6c9450-ecaa-419c-8bfc-b3bdd20fca9f",
   "metadata": {},
   "outputs": [],
   "source": [
    "from agents import Agent, Runner, TResponseInputItem"
   ]
  },
  {
   "cell_type": "code",
   "execution_count": 2,
   "id": "3bcd0e40-9fb7-4bd8-a6b0-fd2501da91d1",
   "metadata": {},
   "outputs": [],
   "source": [
    "import os\n",
    "from dotenv import load_dotenv"
   ]
  },
  {
   "cell_type": "code",
   "execution_count": 3,
   "id": "24b1439c-4f16-4384-acdf-5b3abf33dc53",
   "metadata": {},
   "outputs": [],
   "source": [
    "load_dotenv()\n",
    "\n",
    "api_key = os.environ.get(\"OPENAI_API_KEY\")\n",
    "\n",
    "if not api_key:\n",
    "    raise ValueError(\"OPENAI_API_KEY is not set in the environment variables\")"
   ]
  },
  {
   "cell_type": "code",
   "execution_count": 4,
   "id": "1e46f8cd-3b57-4554-acee-9aacdfe3d1de",
   "metadata": {},
   "outputs": [
    {
     "name": "stdout",
     "output_type": "stream",
     "text": [
      "{'content': 'Hey!', 'role': 'user'}\n",
      "{'id': 'msg_688f78dfb9ac819cb1f93d5ed44ace30027142668de7987c', 'content': [{'annotations': [], 'text': 'Hey there! How can I assist you today?', 'type': 'output_text', 'logprobs': []}], 'role': 'assistant', 'status': 'completed', 'type': 'message'}\n"
     ]
    }
   ],
   "source": [
    "simple_agent = Agent(\n",
    "    name= \"Bob\",\n",
    "    instructions= \" You are a friendly assistant. Reply concisely.\",\n",
    "    model= \"gpt-4o\"\n",
    ")\n",
    "\n",
    "result = await Runner.run(simple_agent, \"Hey!\")\n",
    "for message in result.to_input_list():\n",
    "    print(message)"
   ]
  },
  {
   "cell_type": "code",
   "execution_count": 5,
   "id": "91b538a4-ff6f-4054-92ef-395064624f95",
   "metadata": {},
   "outputs": [
    {
     "name": "stdout",
     "output_type": "stream",
     "text": [
      "{'content': 'Hey!', 'role': 'user'}\n",
      "{'content': 'Hey there! How can I assist you today?', 'role': 'assistant'}\n",
      "{'content': \"I'm having a bad day\", 'role': 'user'}\n",
      "{'id': 'msg_688f78e0c5ac819cbf74393a2cdb64530ffe7fd3903f68cb', 'content': [{'annotations': [], 'text': 'I’m sorry to hear that. Want to talk about what’s going on?', 'type': 'output_text', 'logprobs': []}], 'role': 'assistant', 'status': 'completed', 'type': 'message'}\n"
     ]
    }
   ],
   "source": [
    "simple_agent = Agent(\n",
    "    name= \"Bob\",\n",
    "    instructions= \" You are a friendly assistant. Reply concisely.\",\n",
    "    model= \"gpt-4o\"\n",
    ")\n",
    "\n",
    "convo: list[TResponseInputItem] = [\n",
    "    {\"content\": \"Hey!\", \"role\": \"user\"},\n",
    "    {\"content\": \"Hey there! How can I assist you today?\", \"role\": \"assistant\"},\n",
    "    {\"content\": \"I'm having a bad day\", \"role\": \"user\"}\n",
    "]\n",
    "\n",
    "result = await Runner.run(simple_agent, convo)\n",
    "for message in result.to_input_list():\n",
    "    print(message)"
   ]
  },
  {
   "cell_type": "code",
   "execution_count": 6,
   "id": "4f5345ec-e5c5-4a34-8d2c-585476873209",
   "metadata": {},
   "outputs": [
    {
     "name": "stdout",
     "output_type": "stream",
     "text": [
      "You are now chatting with agent Bob. Type 'exit' to end the conversation.\n"
     ]
    },
    {
     "name": "stdin",
     "output_type": "stream",
     "text": [
      "You:  hi\n"
     ]
    },
    {
     "name": "stdout",
     "output_type": "stream",
     "text": [
      "You: hi\n",
      "Agent: Hello! How can I assist you today?\n"
     ]
    },
    {
     "name": "stdin",
     "output_type": "stream",
     "text": [
      "You:  exit\n"
     ]
    },
    {
     "name": "stdout",
     "output_type": "stream",
     "text": [
      "You: exit\n",
      "Goodbye!\n"
     ]
    }
   ],
   "source": [
    "convo: list[TResponseInputItem] = []\n",
    "print(\"You are now chatting with agent Bob. Type 'exit' to end the conversation.\")\n",
    "while True:\n",
    "    user_input = input(\"You: \")\n",
    "    print(\"You: \" + user_input)\n",
    "\n",
    "    if user_input == \"exit\":\n",
    "        print(\"Goodbye!\")\n",
    "        break\n",
    "\n",
    "    convo.append({\"content\": user_input, \"role\": \"user\"})\n",
    "    result = await Runner.run(simple_agent, convo)\n",
    "\n",
    "    print(f\"Agent: {result.final_output}\")\n",
    "\n",
    "    convo = result.to_input_list()"
   ]
  },
  {
   "cell_type": "code",
   "execution_count": null,
   "id": "7c918e06-1afa-48e4-be2d-be1c7879f1ce",
   "metadata": {},
   "outputs": [
    {
     "name": "stdout",
     "output_type": "stream",
     "text": [
      "You are now chatting with the triage agent. Type 'exit' to end the conversation.\n"
     ]
    },
    {
     "name": "stdin",
     "output_type": "stream",
     "text": [
      "You:  hi\n"
     ]
    },
    {
     "name": "stdout",
     "output_type": "stream",
     "text": [
      "You: hi\n",
      "Triage Agent: Hello! How can I assist you today?\n",
      "\n"
     ]
    }
   ],
   "source": [
    "from agents import Agent, Runner, handoff, RunContextWrapper\n",
    "\n",
    "history_tutor_agent = Agent(\n",
    "    name=\"History Tutor\",\n",
    "    handoff_description=\"Specialist agent for historical questions\",\n",
    "    instructions=\"You provide assistance with historical queries. Explain important events and context clearly.\",\n",
    ")\n",
    "\n",
    "math_tutor_agent = Agent(\n",
    "    name=\"Math Tutor\",\n",
    "    handoff_description=\"Specialist agent for math questions\",\n",
    "    instructions=\"You provide assistance with math queries. Explain your reasoning at each step and include examples\"\n",
    ")\n",
    "\n",
    "def on_math_handoff(ctx: RunContextWrapper[None]):\n",
    "    print(\"Handing off to math tutor agent\")\n",
    "\n",
    "# This agent has the capability to handoff to either the history or math tutor agent\n",
    "triage_agent = Agent(\n",
    "    name=\"Triage Agent\",\n",
    "    instructions=\"You determine which agent to use based on the user's homework question.\" +\n",
    "    \"If neither agent is relevant, provide a general response.\",\n",
    "    handoffs=[history_tutor_agent, handoff(math_tutor_agent, on_handoff=on_math_handoff)]\n",
    ")\n",
    "\n",
    "convo: list[TResponseInputItem] = []\n",
    "last_agent = triage_agent\n",
    "print(\"You are now chatting with the triage agent. Type 'exit' to end the conversation.\")\n",
    "while True:\n",
    "    user_input = input(\"You: \")\n",
    "    print(\"You: \" + user_input)\n",
    "\n",
    "    if user_input == \"exit\":\n",
    "        print(\"Goodbye!\")\n",
    "        break\n",
    "\n",
    "    convo.append({\"content\": user_input, \"role\": \"user\"})\n",
    "    result = await Runner.run(last_agent, convo)\n",
    "\n",
    "    convo = result.to_input_list()\n",
    "    last_agent = result.last_agent\n",
    "\n",
    "    print(f\"{last_agent.name}: {result.final_output}\\n\")"
   ]
  },
  {
   "cell_type": "code",
   "execution_count": null,
   "id": "7273bacf-96cd-49c0-a120-3f0abec42fc5",
   "metadata": {},
   "outputs": [],
   "source": []
  }
 ],
 "metadata": {
  "kernelspec": {
   "display_name": "local-kernel",
   "language": "python",
   "name": "local-kernel"
  },
  "language_info": {
   "codemirror_mode": {
    "name": "ipython",
    "version": 3
   },
   "file_extension": ".py",
   "mimetype": "text/x-python",
   "name": "python",
   "nbconvert_exporter": "python",
   "pygments_lexer": "ipython3",
   "version": "3.12.4"
  }
 },
 "nbformat": 4,
 "nbformat_minor": 5
}
