{
 "cells": [
  {
   "cell_type": "code",
   "execution_count": 1,
   "id": "ff4a9497-eb7d-4a92-b730-ca7c5138ba5e",
   "metadata": {},
   "outputs": [],
   "source": [
    "import os\n",
    "from dotenv import load_dotenv"
   ]
  },
  {
   "cell_type": "code",
   "execution_count": 2,
   "id": "d1d137bf-de5a-4580-b6ee-cb8c859b0576",
   "metadata": {},
   "outputs": [],
   "source": [
    "load_dotenv()\n",
    "\n",
    "api_key = os.environ.get(\"OPENAI_API_KEY\")\n",
    "\n",
    "if not api_key:\n",
    "    raise ValueError(\"OPENAI_API_KEY is not set in the environment variables\")"
   ]
  },
  {
   "cell_type": "code",
   "execution_count": 7,
   "id": "28f2214f-76a8-4776-851f-403a66239b94",
   "metadata": {},
   "outputs": [
    {
     "data": {
      "text/plain": [
       "\"HELLO! I'M JUST A PROGRAM, BUT I'M READY TO HELP YOU! HOW CAN I ASSIST YOU TODAY?\""
      ]
     },
     "execution_count": 7,
     "metadata": {},
     "output_type": "execute_result"
    }
   ],
   "source": [
    "from agents import Agent, Runner\n",
    "\n",
    "agent = Agent(\n",
    "    name=\"Basic Agent\",\n",
    "    instructions= \"You are a helpful assistant. Respond only in caps.\",\n",
    "    model = 'gpt-4o-mini'\n",
    ")\n",
    "\n",
    "result = await Runner.run(agent, \"Hello! How are you?\")\n",
    "result.final_output"
   ]
  },
  {
   "cell_type": "code",
   "execution_count": 11,
   "id": "9d7326c6-90b5-4822-9c4a-43a086af43f7",
   "metadata": {},
   "outputs": [
    {
     "data": {
      "text/plain": [
       "'Why was the history teacher always so calm?\\n\\nBecause she had a lot of dates to fall back on!'"
      ]
     },
     "execution_count": 11,
     "metadata": {},
     "output_type": "execute_result"
    }
   ],
   "source": [
    "joke_agent = Agent(\n",
    "    name = \"Joke Agent\",\n",
    "    instructions= \"You are a joke teller. You are given a topic and you need to tell a joke about it.\"\n",
    ")\n",
    "\n",
    "topic = \"History\"\n",
    "result = await Runner.run(joke_agent, topic)\n",
    "result.final_output"
   ]
  },
  {
   "cell_type": "code",
   "execution_count": 13,
   "id": "cb82b7ec-67dc-4661-8d07-55ba95890ac3",
   "metadata": {},
   "outputs": [
    {
     "name": "stdout",
     "output_type": "stream",
     "text": [
      "Original joke:\n",
      "Why did the historian break up with the librarian?\n",
      "\n",
      "Too much drama—he wanted more of a non-friction relationship!\n",
      "\n",
      "Translated joke:\n",
      "Perché lo storico ha lasciato il bibliotecario?\n",
      "\n",
      "Troppi drammi—voleva una relazione più \"non-fiction\"!\n"
     ]
    }
   ],
   "source": [
    "language_agent = Agent(\n",
    "    name = \"Language Agent\",\n",
    "    instructions= \"You are a language expert. You are given a joke and you need to rewrite it in a different language.\"\n",
    ")\n",
    "\n",
    "joke_result = await Runner.run(joke_agent, topic)\n",
    "translated_result = await Runner.run(language_agent, f\"Translate this joke to Italy: {joke_result.final_output}\")\n",
    "print(f\"Original joke:\\n{joke_result.final_output}\\n\")\n",
    "print(f\"Translated joke:\\n{translated_result.final_output}\")"
   ]
  },
  {
   "cell_type": "code",
   "execution_count": null,
   "id": "cc79c7cf-f268-48de-bdba-a6c7b1cfd99c",
   "metadata": {},
   "outputs": [],
   "source": []
  }
 ],
 "metadata": {
  "kernelspec": {
   "display_name": "local-kernel",
   "language": "python",
   "name": "local-kernel"
  },
  "language_info": {
   "codemirror_mode": {
    "name": "ipython",
    "version": 3
   },
   "file_extension": ".py",
   "mimetype": "text/x-python",
   "name": "python",
   "nbconvert_exporter": "python",
   "pygments_lexer": "ipython3",
   "version": "3.12.4"
  }
 },
 "nbformat": 4,
 "nbformat_minor": 5
}
