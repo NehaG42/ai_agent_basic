{
 "cells": [
  {
   "cell_type": "code",
   "execution_count": 1,
   "id": "ff4a9497-eb7d-4a92-b730-ca7c5138ba5e",
   "metadata": {},
   "outputs": [],
   "source": [
    "import os\n",
    "from dotenv import load_dotenv"
   ]
  },
  {
   "cell_type": "code",
   "execution_count": 2,
   "id": "d1d137bf-de5a-4580-b6ee-cb8c859b0576",
   "metadata": {},
   "outputs": [],
   "source": [
    "load_dotenv()\n",
    "\n",
    "api_key = os.environ.get(\"OPENAI_API_KEY\")\n",
    "\n",
    "if not api_key:\n",
    "    raise ValueError(\"OPENAI_API_KEY is not set in the environment variables\")"
   ]
  },
  {
   "cell_type": "markdown",
   "id": "daca15d7-329a-4e97-b6d7-48abb4a0c186",
   "metadata": {},
   "source": [
    "## Basic Agent"
   ]
  },
  {
   "cell_type": "code",
   "execution_count": 7,
   "id": "28f2214f-76a8-4776-851f-403a66239b94",
   "metadata": {},
   "outputs": [
    {
     "data": {
      "text/plain": [
       "\"HELLO! I'M JUST A PROGRAM, BUT I'M READY TO HELP YOU! HOW CAN I ASSIST YOU TODAY?\""
      ]
     },
     "execution_count": 7,
     "metadata": {},
     "output_type": "execute_result"
    }
   ],
   "source": [
    "from agents import Agent, Runner\n",
    "\n",
    "agent = Agent(\n",
    "    name=\"Basic Agent\",\n",
    "    instructions= \"You are a helpful assistant. Respond only in caps.\",\n",
    "    model = 'gpt-4o-mini'\n",
    ")\n",
    "\n",
    "result = await Runner.run(agent, \"Hello! How are you?\")\n",
    "result.final_output"
   ]
  },
  {
   "cell_type": "markdown",
   "id": "308a3f53-70c5-49df-9830-c65c8298cb3d",
   "metadata": {},
   "source": [
    "## Joke Agent"
   ]
  },
  {
   "cell_type": "code",
   "execution_count": 11,
   "id": "9d7326c6-90b5-4822-9c4a-43a086af43f7",
   "metadata": {},
   "outputs": [
    {
     "data": {
      "text/plain": [
       "'Why was the history teacher always so calm?\\n\\nBecause she had a lot of dates to fall back on!'"
      ]
     },
     "execution_count": 11,
     "metadata": {},
     "output_type": "execute_result"
    }
   ],
   "source": [
    "joke_agent = Agent(\n",
    "    name = \"Joke Agent\",\n",
    "    instructions= \"You are a joke teller. You are given a topic and you need to tell a joke about it.\"\n",
    ")\n",
    "\n",
    "topic = \"History\"\n",
    "result = await Runner.run(joke_agent, topic)\n",
    "result.final_output"
   ]
  },
  {
   "cell_type": "markdown",
   "id": "944e34dc-6ee8-4e61-8c4b-76fbb47509e9",
   "metadata": {},
   "source": [
    "## Language Agent"
   ]
  },
  {
   "cell_type": "code",
   "execution_count": 13,
   "id": "cb82b7ec-67dc-4661-8d07-55ba95890ac3",
   "metadata": {},
   "outputs": [
    {
     "name": "stdout",
     "output_type": "stream",
     "text": [
      "Original joke:\n",
      "Why did the historian break up with the librarian?\n",
      "\n",
      "Too much drama—he wanted more of a non-friction relationship!\n",
      "\n",
      "Translated joke:\n",
      "Perché lo storico ha lasciato il bibliotecario?\n",
      "\n",
      "Troppi drammi—voleva una relazione più \"non-fiction\"!\n"
     ]
    }
   ],
   "source": [
    "language_agent = Agent(\n",
    "    name = \"Language Agent\",\n",
    "    instructions= \"You are a language expert. You are given a joke and you need to rewrite it in a different language.\"\n",
    ")\n",
    "\n",
    "joke_result = await Runner.run(joke_agent, topic)\n",
    "translated_result = await Runner.run(language_agent, f\"Translate this joke to Italy: {joke_result.final_output}\")\n",
    "print(f\"Original joke:\\n{joke_result.final_output}\\n\")\n",
    "print(f\"Translated joke:\\n{translated_result.final_output}\")"
   ]
  },
  {
   "cell_type": "markdown",
   "id": "77ecfc88-33f9-4359-8d77-4c448d7a6c17",
   "metadata": {},
   "source": [
    "## Structured Outputs"
   ]
  },
  {
   "cell_type": "markdown",
   "id": "17d5d4aa-8294-44dd-a22c-e49307fef430",
   "metadata": {},
   "source": [
    "### Structured outputs are a way to format the output of an LLM in a structured manner. This can be useful for tasks that require specific formatting or data extraction."
   ]
  },
  {
   "cell_type": "code",
   "execution_count": 17,
   "id": "007a90cc-081b-4b96-876a-6be3c1a135a7",
   "metadata": {},
   "outputs": [
    {
     "name": "stdout",
     "output_type": "stream",
     "text": [
      "title='Italian Sausage with Spaghetti' ingredients=['8 oz spaghetti', '4 Italian sausages', '2 tablespoons olive oil', '1 onion, finely chopped', '2 cloves garlic, minced', '1 can (14 oz) crushed tomatoes', '1 tablespoon tomato paste', '1 teaspoon dried oregano', '1 teaspoon dried basil', 'Salt and pepper to taste', 'Grated Parmesan cheese for serving', 'Fresh basil leaves for garnish (optional)'] cooking_time=30 servings=4\n"
     ]
    }
   ],
   "source": [
    "from pydantic import BaseModel\n",
    "from agents import Agent\n",
    "\n",
    "class Recipe(BaseModel):\n",
    "    title : str\n",
    "    ingredients : list[str]\n",
    "    cooking_time : int #in minutes\n",
    "    servings : int\n",
    "\n",
    "recipe_agent = Agent(\n",
    "    name= \"Recipe Agent\",\n",
    "    instructions= (\"You are an agent for creating recipes. You will be given the name of a food and your job\"\n",
    "                   \"is to output that as an actual detailed recipe. The cooking time should be in minutes.\"),\n",
    "    output_type = Recipe\n",
    ")\n",
    "\n",
    "response = await Runner.run(recipe_agent, \"Italian sausage with spaghetti\")\n",
    "recipe = response.final_output\n",
    "print(recipe)"
   ]
  },
  {
   "cell_type": "markdown",
   "id": "26280e74-93bd-44d9-b3c6-b40c509c36fc",
   "metadata": {},
   "source": [
    "## Tool Calling"
   ]
  },
  {
   "cell_type": "markdown",
   "id": "2d2c9536-0d80-4bf6-8cef-c5ee78f4b855",
   "metadata": {},
   "source": [
    "### Tool calling is a way to extend the capabilities of an LLM by allowing it to call external tools or APIs. This can be useful for tasks that require access to external data or services."
   ]
  },
  {
   "cell_type": "code",
   "execution_count": 25,
   "id": "c5ee92a4-c316-430f-8cdb-ccfe281a7c13",
   "metadata": {},
   "outputs": [
    {
     "name": "stdout",
     "output_type": "stream",
     "text": [
      "Getting weather for Manchester\n",
      "Getting temperature for Manchester\n"
     ]
    },
    {
     "data": {
      "text/plain": [
       "'In Manchester, the weather is sunny with a temperature of 12 degrees Celsius.'"
      ]
     },
     "execution_count": 25,
     "metadata": {},
     "output_type": "execute_result"
    }
   ],
   "source": [
    "from agents import Agent, function_tool\n",
    "\n",
    "@function_tool\n",
    "def get_weather(city : str) -> str:\n",
    "    print(f\"Getting weather for {city}\")\n",
    "    return \"sunny\"\n",
    "\n",
    "@function_tool\n",
    "def get_temperature(city : str) -> str:\n",
    "    print(f\"Getting temperature for {city}\")\n",
    "    return \"12 degrees\"\n",
    "\n",
    "agent = Agent(\n",
    "    name= \"Weather Agent\",\n",
    "    instructions= \"You are the local weather agent. You are given a city and you need to tell the weather and temperature.\",\n",
    "    tools= [get_weather, get_temperature]\n",
    ")\n",
    "\n",
    "result = await Runner.run(agent, \"Manchester?\")\n",
    "result.final_output"
   ]
  },
  {
   "cell_type": "code",
   "execution_count": 30,
   "id": "02ce49fe-0904-4f74-806e-40c02fe0942b",
   "metadata": {},
   "outputs": [
    {
     "data": {
      "text/plain": [
       "'Here are some recent news articles related to the United Kingdom:\\n\\n**Media and Privacy**\\n\\n- **UK News Coverage at Risk of \\'Fracturing Irreparably\\' Within 10 Years, Peers Warn**: A House of Lords committee has warned that UK news coverage could fracture irreparably within the next decade due to a growing divide between quality paid journalism and the increasing reliance on questionable online sources. The report highlights the rise of \"news deserts\" and significant advertising revenue losses in local news, suggesting tax breaks for local media hiring reporters and journalist training schemes to avert a \"two-tier\" media environment. ([ft.com](https://www.ft.com/content/b062ce44-9fbb-4d5c-a8ec-a58ff1bd8654?utm_source=openai))\\n\\n- **Murdoch\\'s UK Tabloids Apologize to Prince Harry and Admit Intruding on the Late Princess Diana**: Rupert Murdoch\\'s UK tabloid newspapers have issued an unprecedented apology to Prince Harry for years of intrusion into his private life and agreed to pay substantial damages to settle his privacy invasion lawsuit. The company acknowledged that their journalists and private investigators had targeted Harry with phone hacking and surveillance, also recognizing the impact of their intrusion on his late mother, Princess Diana. ([apnews.com](https://apnews.com/article/88c61a08225269014224283c37225bf8?utm_source=openai))\\n\\n**Political Developments**\\n\\n- **2024 United Kingdom General Election**: The general election held on 4 July 2024 resulted in a landslide victory for the Labour Party, led by Keir Starmer, ending 14 years of Conservative government. Labour secured 411 seats, while the Conservatives suffered their worst-ever defeat, winning 121 seats. Smaller parties saw record support, with the Liberal Democrats becoming the third-largest party with 72 seats. ([en.wikipedia.org](https://en.wikipedia.org/wiki/2024_United_Kingdom_general_election?utm_source=openai))\\n\\n- **2025 United Kingdom Local Elections**: The local elections saw Reform UK win the most seats and take control of several local authorities. Both the governing Labour Party and the opposition Conservative Party suffered historic losses. The Liberal Democrats made significant gains, taking overall control in areas like Cambridgeshire, Shropshire, and Oxfordshire. ([en.wikipedia.org](https://en.wikipedia.org/wiki/2025_United_Kingdom_local_elections?utm_source=openai))\\n\\n**International Relations**\\n\\n- **UK and EU Agree Post-Brexit Reset at Showpiece Summit**: On 19 May 2025, Prime Minister Keir Starmer, European Commission President Ursula von der Leyen, and European Council President Antonio Costa met in London to announce a new EU–UK deal. The agreement includes a defence and security pact, a fisheries agreement, an agrifood agreement, carbon border taxes, and border security measures. ([en.wikipedia.org](https://en.wikipedia.org/wiki/United_Kingdom%E2%80%93European_Union_relations?utm_source=openai))\\n\\n\\n## Recent UK News Highlights:\\n- [UK news coverage at risk of \\'fracturing irreparably\\' within 10 years, peers warn](https://www.ft.com/content/b062ce44-9fbb-4d5c-a8ec-a58ff1bd8654?utm_source=openai)\\n- [Murdoch\\'s UK tabloids apologize to Prince Harry and admit intruding on the late Princess Diana](https://apnews.com/article/88c61a08225269014224283c37225bf8?utm_source=openai)\\n- [Rupert Murdoch\\'s UK news group settles with almost 40 claimants over alleged phone hacking](https://www.ft.com/content/ca809ac7-7af5-4884-97d2-2f75cc69d382?utm_source=openai) '"
      ]
     },
     "execution_count": 30,
     "metadata": {},
     "output_type": "execute_result"
    }
   ],
   "source": [
    "from agents import WebSearchTool\n",
    "\n",
    "news_agent = Agent(\n",
    "    name = \"News Agent\",\n",
    "    instructions= \"You are a news reporter. Your job is to find recent news articles on the internet aboust the UK and list them.\",\n",
    "    tools= [WebSearchTool()]\n",
    ")\n",
    "\n",
    "result = await Runner.run(news_agent, \"Find news\")\n",
    "result.final_output"
   ]
  },
  {
   "cell_type": "code",
   "execution_count": 36,
   "id": "1dbc1124-1f46-422c-9a0d-54401325ac57",
   "metadata": {},
   "outputs": [
    {
     "name": "stdin",
     "output_type": "stream",
     "text": [
      "Enter your news query (or 'quit' to exit):  Oldham\n"
     ]
    },
    {
     "name": "stdout",
     "output_type": "stream",
     "text": [
      "\n",
      "Result:\n",
      "Here is a summary of recent news and developments in Oldham:\n",
      "\n",
      "**Public Safety Incidents**\n",
      "\n",
      "- **Chemical and Gas Leak**: On April 23, 2025, a chemical and gas leak from a lorry on West End Street prompted the evacuation of nearby businesses and buildings. Five fire engines and an incident command unit responded to the scene. Residents were advised to keep windows and doors closed during the incident. ([bbc.com](https://www.bbc.com/news/articles/crkx8rd6l72o?utm_source=openai))\n",
      "\n",
      "- **Murder Investigation**: On July 26, 2025, a 50-year-old man was found dead in a property on Eldon Street. A 64-year-old man has been arrested on suspicion of murder and remains in custody. The cause of death is yet to be determined. ([bbc.com](https://www.bbc.com/news/articles/cr4zk1r6w5do?utm_source=openai))\n",
      "\n",
      "**Political Developments**\n",
      "\n",
      "- **Conservative Leader Resignation**: In January 2025, Graham Sheldon resigned as leader of Oldham Council's Conservative group following a heated council meeting that required police intervention. He cited the actions of two group members as contributing to the disruption. ([bbc.com](https://www.bbc.com/news/articles/c0ewj7d285no?utm_source=openai))\n",
      "\n",
      "- **Council Elections**: The May 2024 elections resulted in Labour losing overall control of the council, with a net loss of four seats. Despite this, Labour remains the largest party with 27 out of 60 seats and has formed a minority administration. ([en.wikipedia.org](https://en.wikipedia.org/wiki/2024_Oldham_Metropolitan_Borough_Council_election?utm_source=openai))\n",
      "\n",
      "**Community and Cultural Initiatives**\n",
      "\n",
      "- **Tommyfield Park Naming**: On July 21, 2025, Oldham Council announced that the new five-acre town centre park under construction will be named Tommyfield Park, honoring the historic Tommyfield Market. ([oldham.gov.uk](https://www.oldham.gov.uk/news?utm_source=openai))\n",
      "\n",
      "- **Oldham Coliseum Theatre**: After closing in 2023 due to funding cuts, plans to refurbish the historic Oldham Coliseum Theatre were announced in July 2024, with a reopening initially set for Christmas 2025. However, in June 2025, the reopening was delayed until 2026. ([en.wikipedia.org](https://en.wikipedia.org/wiki/Oldham_Coliseum_Theatre?utm_source=openai))\n",
      "\n",
      "**Social Issues**\n",
      "\n",
      "- **Child Sexual Exploitation Inquiry**: In January 2025, survivors of historical child sexual exploitation in Oldham criticized the government's decision not to conduct a national inquiry into grooming gangs in the town. They have called on Prime Minister Sir Keir Starmer to meet with them and hear their stories. ([bbc.com](https://www.bbc.com/news/articles/c93qplwpll2o.amp?utm_source=openai))\n",
      "\n",
      "**Sports**\n",
      "\n",
      "- **Oldham Athletic A.F.C.**: The 2024–25 season marks Oldham Athletic's third season since dropping out of the Football League. The club is competing in the National League, FA Cup, and FA Trophy. A new competition, the National League Cup, was announced in October 2024, with Oldham Athletic among the 32 teams participating. ([en.wikipedia.org](https://en.wikipedia.org/wiki/2024%E2%80%9325_Oldham_Athletic_A.F.C._season?utm_source=openai))\n",
      "\n",
      "**Local News Highlights**\n",
      "\n",
      "- **Squirrel Infestation**: Residents have reported issues with squirrels entering their attics, attributing the problem to an infestation at a nearby cemetery. ([oldham-chronicle.co.uk](https://www.oldham-chronicle.co.uk/news-features/139/news?utm_source=openai))\n",
      "\n",
      "- **Police Station Plans**: Plans for a new Greater Manchester police station in Oldham have been criticized for potentially lacking holding cells, raising concerns about practicality. ([oldham-chronicle.co.uk](https://www.oldham-chronicle.co.uk/news-features/139/news?utm_source=openai))\n",
      "\n",
      "- **Councillor Overpayments**: An administrative error led to Oldham councillors being overpaid for three consecutive years, prompting public dissatisfaction. ([oldham-chronicle.co.uk](https://www.oldham-chronicle.co.uk/news-features/139/news?utm_source=openai))\n",
      "\n",
      "- **Cannabis Seizure**: Greater Manchester Police seized £20,000 worth of suspected cannabis in Derker as part of Operation Vulcan. ([oldham-chronicle.co.uk](https://www.oldham-chronicle.co.uk/news-features/139/news?utm_source=openai))\n",
      "\n",
      "- **Shed Burglaries Arrest**: A man has been arrested in connection with multiple shed burglaries in Oldham, following efforts by the Neighbourhood Crime Team. ([oldham-chronicle.co.uk](https://www.oldham-chronicle.co.uk/news-features/139/news?utm_source=openai))\n",
      "\n",
      "- **Attempted Murder Conviction**: A patient was found guilty of attempting to murder a nurse at Royal Oldham Hospital, resulting in the nurse requiring intensive care. ([oldham-chronicle.co.uk](https://www.oldham-chronicle.co.uk/news-features/139/news?utm_source=openai))\n",
      "\n",
      "- **Home Care Fundraising**: The team at Visiting Angels Manchester East raised £300 for Dr Kershaw’s Hospice in Royton, honoring two clients who recently passed away. ([oldham-chronicle.co.uk](https://www.oldham-chronicle.co.uk/news-features/139/news?utm_source=openai))\n",
      "\n",
      "- **Cladding Removal Delays**: Residents are still awaiting the removal of combustible cladding from a building, five years after initial concerns were raised. ([oldham-chronicle.co.uk](https://www.oldham-chronicle.co.uk/news-features/139/news?utm_source=openai))\n",
      "\n",
      "- **Public Pool Closure**: A popular public pool in Oldham is set to close for five weeks during the summer holidays, affecting local families. ([oldham-chronicle.co.uk](https://www.oldham-chronicle.co.uk/news-features/139/news?utm_source=openai))\n",
      "\n",
      "- **CSE Investigation Arrests**: Three men were arrested on suspicion of child rape as part of Greater Manchester Police's Operation Sherwood, a complex investigation into non-recent child sexual exploitation in Oldham. ([oldham-chronicle.co.uk](https://www.oldham-chronicle.co.uk/news-features/139/news?utm_source=openai))\n",
      "\n",
      "- **Housing Development Feedback**: Residents of Shaw are invited to provide input on a significant housing development plan that could transform their neighborhood. ([oldham-chronicle.co.uk](https://www.oldham-chronicle.co.uk/news-features/139/news?utm_source=openai))\n",
      "\n",
      "Please note that this information is based on available reports up to July 27, 2025, and may be subject to change as new developments occur. \n",
      "\n",
      "--------------------------------------------------\n",
      "\n"
     ]
    },
    {
     "name": "stdin",
     "output_type": "stream",
     "text": [
      "Enter your news query (or 'quit' to exit):  quit\n"
     ]
    }
   ],
   "source": [
    "from agents import WebSearchTool, Runner, agent\n",
    "from dotenv import load_dotenv\n",
    "import os\n",
    "\n",
    "load_dotenv()\n",
    "\n",
    "api_key = os.environ.get(\"OPENAI_API_KEY\")\n",
    "\n",
    "if not api_key:\n",
    "    raise ValueError(\"OPENAI_API_KEY is not set in the environment variables\")\n",
    "\n",
    "news_agent = Agent(\n",
    "    name = \"News Agent\",\n",
    "    instructions= \"You are a news agent that can search the web for the latest news on a given topic. \" +  \n",
    "    \"Compile the information you find into a concise summary. No markdown, just plain text.\",\n",
    "    tools= [WebSearchTool()]\n",
    ")\n",
    "\n",
    "# while True:\n",
    "#     query = input(\"Enter your news query (or 'quit' to exit): \")\n",
    "#     if query.lower() == 'quit':\n",
    "#         break\n",
    "\n",
    "#     result = Runner.run_sync(news_agent, input = query)\n",
    "#     print(\"\\nResult:\")\n",
    "#     print(result.final_output)\n",
    "#     print(\"\\n\" + \"-\"*50 + \"\\n\")\n",
    "\n",
    "async def main():\n",
    "    while True:\n",
    "        query = input(\"Enter your news query (or 'quit' to exit): \")\n",
    "        if query.lower() == 'quit':\n",
    "            break\n",
    "        result = await Runner.run(news_agent, input=query)\n",
    "        print(\"\\nResult:\")\n",
    "        print(result.final_output)\n",
    "        print(\"\\n\" + \"-\"*50 + \"\\n\")\n",
    "\n",
    "# Only needed in Jupyter or async environments\n",
    "await main()"
   ]
  },
  {
   "cell_type": "code",
   "execution_count": null,
   "id": "77399235-a7d0-4ec7-a055-862576a76039",
   "metadata": {},
   "outputs": [],
   "source": []
  }
 ],
 "metadata": {
  "kernelspec": {
   "display_name": "local-kernel",
   "language": "python",
   "name": "local-kernel"
  },
  "language_info": {
   "codemirror_mode": {
    "name": "ipython",
    "version": 3
   },
   "file_extension": ".py",
   "mimetype": "text/x-python",
   "name": "python",
   "nbconvert_exporter": "python",
   "pygments_lexer": "ipython3",
   "version": "3.12.4"
  }
 },
 "nbformat": 4,
 "nbformat_minor": 5
}
